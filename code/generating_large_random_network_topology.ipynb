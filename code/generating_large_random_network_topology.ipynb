{
 "cells": [
  {
   "cell_type": "markdown",
   "metadata": {},
   "source": [
    "# generating a large random network topology"
   ]
  },
  {
   "cell_type": "code",
   "execution_count": 1,
   "metadata": {},
   "outputs": [
    {
     "data": {
      "text/plain": [
       "gentopo (generic function with 1 method)"
      ]
     },
     "execution_count": 1,
     "metadata": {},
     "output_type": "execute_result"
    }
   ],
   "source": [
    "# naive approach: \n",
    "function gentopo(n,k,seed)\n",
    "    p = k/(n-1)\n",
    "    srand(seed)\n",
    "    rand(n,n) .< p\n",
    "end"
   ]
  },
  {
   "cell_type": "code",
   "execution_count": 2,
   "metadata": {},
   "outputs": [
    {
     "data": {
      "text/plain": [
       "50×50 BitArray{2}:\n",
       " false  false   true  false  false  …   true  false   true  false   true\n",
       " false  false  false  false  false      true  false  false  false  false\n",
       " false  false  false   true  false     false  false  false  false   true\n",
       "  true  false  false  false  false     false   true  false   true  false\n",
       " false   true   true  false  false     false  false  false   true   true\n",
       " false  false  false  false  false  …  false  false  false   true  false\n",
       " false   true  false   true   true     false   true   true  false  false\n",
       " false  false  false  false  false     false  false   true   true  false\n",
       " false  false  false  false   true     false  false  false  false   true\n",
       " false  false  false  false  false     false  false   true   true  false\n",
       " false  false  false  false  false  …  false  false   true  false  false\n",
       " false  false  false   true  false     false  false  false  false  false\n",
       " false  false   true  false  false      true  false  false  false  false\n",
       "     ⋮                              ⋱      ⋮                            \n",
       "  true  false  false  false  false     false  false  false  false  false\n",
       " false  false  false  false  false     false  false  false  false  false\n",
       " false  false  false  false  false  …  false  false  false  false  false\n",
       " false  false  false  false  false     false  false  false  false  false\n",
       " false  false  false  false  false      true  false  false  false  false\n",
       " false   true  false   true  false      true  false  false   true  false\n",
       "  true   true  false  false  false     false  false  false  false  false\n",
       " false  false   true  false  false  …  false   true   true  false  false\n",
       " false   true   true  false  false     false  false  false  false  false\n",
       " false  false  false  false  false      true   true   true   true   true\n",
       " false  false  false  false   true     false  false  false  false  false\n",
       " false  false  false  false  false     false  false  false   true   true"
      ]
     },
     "execution_count": 2,
     "metadata": {},
     "output_type": "execute_result"
    }
   ],
   "source": [
    "n = 50 # number of neurons\n",
    "k = 10 # number of synapses per neuron\n",
    "seed = 1\n",
    "A = gentopo(n,k,seed)"
   ]
  },
  {
   "cell_type": "code",
   "execution_count": 3,
   "metadata": {},
   "outputs": [
    {
     "data": {
      "text/plain": [
       "50-element BitArray{1}:\n",
       " false\n",
       " false\n",
       " false\n",
       "  true\n",
       " false\n",
       "  true\n",
       " false\n",
       " false\n",
       " false\n",
       "  true\n",
       " false\n",
       "  true\n",
       " false\n",
       "     ⋮\n",
       " false\n",
       " false\n",
       " false\n",
       " false\n",
       "  true\n",
       " false\n",
       " false\n",
       " false\n",
       " false\n",
       " false\n",
       " false\n",
       "  true"
      ]
     },
     "execution_count": 3,
     "metadata": {},
     "output_type": "execute_result"
    }
   ],
   "source": [
    "j = 17 # example spiking neuron\n",
    "post = A[:,j]"
   ]
  },
  {
   "cell_type": "markdown",
   "metadata": {},
   "source": [
    " ### using sparse matrices"
   ]
  },
  {
   "cell_type": "code",
   "execution_count": 4,
   "metadata": {},
   "outputs": [
    {
     "data": {
      "text/plain": [
       "gensparsetopo (generic function with 1 method)"
      ]
     },
     "execution_count": 4,
     "metadata": {},
     "output_type": "execute_result"
    }
   ],
   "source": [
    "# needs less memory (n*k instead of n^2)\n",
    "function gensparsetopo(n,k,seed)\n",
    "    srand(seed)\n",
    "    p = k/(n-1)\n",
    "    A = sprand(Bool,n,n,p)\n",
    "end"
   ]
  },
  {
   "cell_type": "code",
   "execution_count": 5,
   "metadata": {},
   "outputs": [
    {
     "data": {
      "text/plain": [
       "50×50 SparseMatrixCSC{Bool,Int64} with 512 stored entries:\n",
       "  [4 ,  1]  =  true\n",
       "  [6 ,  1]  =  true\n",
       "  [21,  1]  =  true\n",
       "  [43,  1]  =  true\n",
       "  [44,  1]  =  true\n",
       "  [46,  1]  =  true\n",
       "  [47,  1]  =  true\n",
       "  [3 ,  2]  =  true\n",
       "  [7 ,  2]  =  true\n",
       "  [15,  2]  =  true\n",
       "  ⋮\n",
       "  [2 , 50]  =  true\n",
       "  [7 , 50]  =  true\n",
       "  [8 , 50]  =  true\n",
       "  [12, 50]  =  true\n",
       "  [18, 50]  =  true\n",
       "  [21, 50]  =  true\n",
       "  [31, 50]  =  true\n",
       "  [32, 50]  =  true\n",
       "  [35, 50]  =  true\n",
       "  [47, 50]  =  true\n",
       "  [49, 50]  =  true"
      ]
     },
     "execution_count": 5,
     "metadata": {},
     "output_type": "execute_result"
    }
   ],
   "source": [
    "Asparse = gensparsetopo(n,k,seed)"
   ]
  },
  {
   "cell_type": "code",
   "execution_count": 5,
   "metadata": {},
   "outputs": [
    {
     "data": {
      "text/plain": [
       "50-element BitArray{1}:\n",
       " false\n",
       " false\n",
       " false\n",
       "  true\n",
       " false\n",
       "  true\n",
       " false\n",
       " false\n",
       " false\n",
       "  true\n",
       " false\n",
       "  true\n",
       " false\n",
       "     ⋮\n",
       " false\n",
       " false\n",
       " false\n",
       " false\n",
       "  true\n",
       " false\n",
       " false\n",
       " false\n",
       " false\n",
       " false\n",
       " false\n",
       "  true"
      ]
     },
     "execution_count": 5,
     "metadata": {},
     "output_type": "execute_result"
    }
   ],
   "source": [
    "j = 17 # example spiking neuron\n",
    "post = A[:,j]"
   ]
  },
  {
   "cell_type": "markdown",
   "metadata": {},
   "source": [
    "### generating network topology on the fly"
   ]
  },
  {
   "cell_type": "code",
   "execution_count": 7,
   "metadata": {},
   "outputs": [
    {
     "data": {
      "text/plain": [
       "10-element Array{Int64,1}:\n",
       " 35\n",
       " 10\n",
       " 33\n",
       " 32\n",
       " 23\n",
       " 41\n",
       " 14\n",
       " 42\n",
       " 20\n",
       " 40"
      ]
     },
     "execution_count": 7,
     "metadata": {},
     "output_type": "execute_result"
    }
   ],
   "source": [
    "# no need to store network topology of size n*k\n",
    "using StatsBase\n",
    "j = 18\n",
    "srand(j)\n",
    "post = sample(1:n-1,k) # generate postsynaptic neuron index"
   ]
  },
  {
   "cell_type": "markdown",
   "metadata": {},
   "source": [
    "###### bottleneck: seeding the random number generator"
   ]
  },
  {
   "cell_type": "code",
   "execution_count": 10,
   "metadata": {},
   "outputs": [
    {
     "name": "stdout",
     "output_type": "stream",
     "text": [
      "  12.056 μs (2 allocations: 112 bytes)\n"
     ]
    }
   ],
   "source": [
    "using BenchmarkTools\n",
    "mt = MersenneTwister(seed)\n",
    "@btime srand(mt,1);"
   ]
  },
  {
   "cell_type": "markdown",
   "metadata": {},
   "source": [
    "###### Solution: using faster random number generator"
   ]
  },
  {
   "cell_type": "code",
   "execution_count": 11,
   "metadata": {},
   "outputs": [
    {
     "name": "stdout",
     "output_type": "stream",
     "text": [
      "  19.366 ns (0 allocations: 0 bytes)\n"
     ]
    }
   ],
   "source": [
    "using RandomNumbers.Xorshifts\n",
    "r = Xoroshiro128Star(seed)\n",
    "@btime srand(r,1);"
   ]
  }
 ],
 "metadata": {
  "kernelspec": {
   "display_name": "Julia 0.6.0",
   "language": "julia",
   "name": "julia-0.6"
  },
  "language_info": {
   "file_extension": ".jl",
   "mimetype": "application/julia",
   "name": "julia",
   "version": "0.6.0"
  }
 },
 "nbformat": 4,
 "nbformat_minor": 2
}
